{
 "cells": [
  {
   "cell_type": "code",
   "execution_count": 48,
   "metadata": {},
   "outputs": [
    {
     "name": "stdout",
     "output_type": "stream",
     "text": [
      "Adınız? Ali\n",
      "Soyadınız? Veli\n",
      "Yaşınız? 49\n",
      "Doğum Yılı? 1950\n",
      " Adı : Ali \n",
      " Soyadı : Veli \n",
      " Yaşı : 49 \n",
      " Doğum Yılı : 1950 \n",
      "You can go out to the street\n"
     ]
    }
   ],
   "source": [
    "name=input(\"Adınız? \")\n",
    "surname=input(\"Soyadınız? \")\n",
    "age=int(input(\"Yaşınız? \"))\n",
    "birth=(input(\"Doğum Yılı? \"))\n",
    "while len(birth) !=4:        #sadece 4 hane doğum yılı\n",
    "    birth=input(\"Sadece Doğum Yılınız Lütfen? \")\n",
    "    break\n",
    "infolist=[['Adı',(name)],['Soyadı',(surname)],['Yaşı',(age)],['Doğum Yılı',(birth)]]\n",
    "for i in infolist:\n",
    "    print(f\" {i[0]} : {i[1]} \")\n",
    "if age < 18:\n",
    "    print(\"You can't go out because it's too dangerous\")\n",
    "else:\n",
    "    print(\"You can go out to the street\")\n",
    "\n",
    "\n"
   ]
  },
  {
   "cell_type": "code",
   "execution_count": null,
   "metadata": {},
   "outputs": [],
   "source": []
  }
 ],
 "metadata": {
  "kernelspec": {
   "display_name": "Python 3",
   "language": "python",
   "name": "python3"
  },
  "language_info": {
   "codemirror_mode": {
    "name": "ipython",
    "version": 3
   },
   "file_extension": ".py",
   "mimetype": "text/x-python",
   "name": "python",
   "nbconvert_exporter": "python",
   "pygments_lexer": "ipython3",
   "version": "3.8.5"
  }
 },
 "nbformat": 4,
 "nbformat_minor": 4
}
