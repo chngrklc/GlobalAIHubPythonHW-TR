{
 "cells": [
  {
   "cell_type": "code",
   "execution_count": 118,
   "metadata": {},
   "outputs": [
    {
     "name": "stdout",
     "output_type": "stream",
     "text": [
      "Your Name, Please? Cihangir\n",
      "Wellcome Cihangir!\n",
      "If You Are Ready, Press S to Start or Press Q to Quit S\n",
      "Guess How Many Digit Our Number Has? You Have Only 4 Shot! \n",
      "5\n",
      "This was your 1 st shot\n",
      "welldone!!!\n"
     ]
    }
   ],
   "source": [
    "#something like hangman\n",
    "\n",
    "import random as rnd\n",
    "rastgele = str(rnd.randint(1,100000))\n",
    "#print(rastgele)\n",
    "#print(type(len(rastgele)))\n",
    "uzunluk=0\n",
    "isim = input(\"Your Name, Please? \")\n",
    "print(\"Wellcome\", isim, end=\"!\\n\")\n",
    "\n",
    "ready = input(\"If You Are Ready, Press S to Start or Press Q to Quit \")\n",
    "if (ready == \"Q\" or ready == \"q\"):\n",
    "    print(\"see you next time :( \\n\")\n",
    "elif (ready == \"s\" or ready == \"S\"):\n",
    "        while uzunluk != len(rastgele):\n",
    "            for i in range(4):\n",
    "                if  uzunluk == len(rastgele):\n",
    "                    print(\"welldone!!!\")\n",
    "                    break\n",
    "                else:\n",
    "                    uzunluk=int(input(\"Guess How Many Digit Our Number Has? You Have Only 4 Shot! \\n\"))\n",
    "                    print(\"This was your\", i+1,\"st shot\")         \n",
    "        pass\n",
    "else:\n",
    "    print (\"you loose! \")\n",
    "  \n",
    "        "
   ]
  },
  {
   "cell_type": "code",
   "execution_count": null,
   "metadata": {},
   "outputs": [],
   "source": []
  }
 ],
 "metadata": {
  "kernelspec": {
   "display_name": "Python 3",
   "language": "python",
   "name": "python3"
  },
  "language_info": {
   "codemirror_mode": {
    "name": "ipython",
    "version": 3
   },
   "file_extension": ".py",
   "mimetype": "text/x-python",
   "name": "python",
   "nbconvert_exporter": "python",
   "pygments_lexer": "ipython3",
   "version": "3.8.5"
  }
 },
 "nbformat": 4,
 "nbformat_minor": 4
}
