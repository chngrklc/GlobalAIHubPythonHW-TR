{
 "cells": [
  {
   "cell_type": "code",
   "execution_count": 13,
   "metadata": {},
   "outputs": [
    {
     "name": "stdout",
     "output_type": "stream",
     "text": [
      "doğum yeriniz? ali\n",
      "doğum yılınız? 1980\n",
      "okulunuz? itü\n",
      "kimlik no? 236565\n",
      "talep ettiğiniz burs miktarı? 2500\n",
      " Doğum Yeri : ali \n",
      " Doğum Yılı :1980 \n",
      " Okul : itü \n",
      " TCNO : 236565 \n",
      " Burs Miktarı : 2500.0\n",
      " Doğum Yeri : <class 'str'> \n",
      " Doğum Yılı :<class 'int'> \n",
      " Okul : <class 'str'> \n",
      " TCNO : <class 'int'> \n",
      " Burs Miktarı : <class 'float'>\n"
     ]
    }
   ],
   "source": [
    "hmtwn=input(\"doğum yeriniz? \")\n",
    "birth=int(input(\"doğum yılınız? \"))\n",
    "school=input(\"okulunuz? \")\n",
    "idnum=int(input(\"kimlik no? \"))\n",
    "burs=float(input(\"talep ettiğiniz burs miktarı? \"))\n",
    "print(f\" Doğum Yeri : {hmtwn} \\n Doğum Yılı :{birth} \\n Okul : {school} \\n TCNO : {idnum} \\n Burs Miktarı : {burs}\")\n",
    "print(\" Doğum Yeri : {} \\n Doğum Yılı :{} \\n Okul : {} \\n TCNO : {} \\n Burs Miktarı : {}\" .format(type(hmtwn),type(birth),type(school),type(idnum),type(burs)))\n"
   ]
  }
 ],
 "metadata": {
  "kernelspec": {
   "display_name": "Python 3",
   "language": "python",
   "name": "python3"
  },
  "language_info": {
   "codemirror_mode": {
    "name": "ipython",
    "version": 3
   },
   "file_extension": ".py",
   "mimetype": "text/x-python",
   "name": "python",
   "nbconvert_exporter": "python",
   "pygments_lexer": "ipython3",
   "version": "3.8.5"
  }
 },
 "nbformat": 4,
 "nbformat_minor": 4
}
